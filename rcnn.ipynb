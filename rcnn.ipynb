{
  "nbformat": 4,
  "nbformat_minor": 0,
  "metadata": {
    "colab": {
      "name": "RCNN.ipynb",
      "provenance": [],
      "collapsed_sections": [],
      "include_colab_link": true
    },
    "kernelspec": {
      "name": "python3",
      "display_name": "Python 3"
    }
  },
  "cells": [
    {
      "cell_type": "markdown",
      "metadata": {
        "id": "view-in-github",
        "colab_type": "text"
      },
      "source": [
        "<a href=\"https://colab.research.google.com/gist/mahbub-hasaan/e4fc7f3c4df4fe461643840fbfdafc94/rcnn.ipynb\" target=\"_parent\"><img src=\"https://colab.research.google.com/assets/colab-badge.svg\" alt=\"Open In Colab\"/></a>"
      ]
    },
    {
      "cell_type": "code",
      "metadata": {
        "id": "OGSE0mse5hdA",
        "colab": {
          "base_uri": "https://localhost:8080/"
        },
        "outputId": "80cd4872-c1df-430c-ee53-1c8a8f7d4538"
      },
      "source": [
        "from google.colab import drive\n",
        "drive.mount('/content/sample_data/drive')"
      ],
      "execution_count": 1,
      "outputs": [
        {
          "output_type": "stream",
          "name": "stdout",
          "text": [
            "Mounted at /content/sample_data/drive\n"
          ]
        }
      ]
    },
    {
      "cell_type": "code",
      "metadata": {
        "id": "LygFA3T88foF"
      },
      "source": [
        "import numpy as np\n",
        "import matplotlib.pyplot as plt\n",
        "import os\n",
        "import cv2\n",
        "import tensorflow as tf\n",
        "import datetime"
      ],
      "execution_count": 2,
      "outputs": []
    },
    {
      "cell_type": "code",
      "metadata": {
        "id": "kX3fFB9WRTYJ"
      },
      "source": [
        "try:\n",
        "  # %tensorflow_version only exists in Colab.\n",
        "  %tensorflow_version 2.x\n",
        "except Exception:\n",
        "  pass\n",
        "\n",
        "# Load the TensorBoard notebook extension\n",
        "%load_ext tensorboard"
      ],
      "execution_count": 3,
      "outputs": []
    },
    {
      "cell_type": "code",
      "metadata": {
        "id": "qhxpfuoZRkpM"
      },
      "source": [
        "logdir = os.path.join(\"logs\", \"Model2_fianal\")\n",
        "tensorboard_callback = tf.keras.callbacks.TensorBoard(logdir, histogram_freq=1)"
      ],
      "execution_count": 4,
      "outputs": []
    },
    {
      "cell_type": "code",
      "metadata": {
        "id": "u4GRNSgK8HzT",
        "colab": {
          "base_uri": "https://localhost:8080/",
          "height": 321
        },
        "outputId": "fd77d01b-e64b-4431-c207-f1981bb39826"
      },
      "source": [
        "train_data=[]\n",
        "CARAGORIES=['Pothole','Crack','Raveling']\n",
        "DATAPATH=\"/content/sample_data/drive/My Drive/Rezized Image\"\n",
        "def creat_tratin_data():\n",
        "    for catagory in CARAGORIES:\n",
        "        path=os.path.join(DATAPATH,catagory)\n",
        "        class_num=CARAGORIES.index(catagory)\n",
        "        for img in os.listdir(path):\n",
        "            try:\n",
        "                img_data=cv2.imread(os.path.join(path,img))\n",
        "                train_data.append([img_data,class_num])\n",
        "            except Exception as e:\n",
        "                pass\n",
        "        \n",
        "creat_tratin_data()"
      ],
      "execution_count": 5,
      "outputs": [
        {
          "output_type": "error",
          "ename": "FileNotFoundError",
          "evalue": "ignored",
          "traceback": [
            "\u001b[0;31m---------------------------------------------------------------------------\u001b[0m",
            "\u001b[0;31mFileNotFoundError\u001b[0m                         Traceback (most recent call last)",
            "\u001b[0;32m<ipython-input-5-b032e167d4df>\u001b[0m in \u001b[0;36m<module>\u001b[0;34m()\u001b[0m\n\u001b[1;32m     13\u001b[0m                 \u001b[0;32mpass\u001b[0m\u001b[0;34m\u001b[0m\u001b[0;34m\u001b[0m\u001b[0m\n\u001b[1;32m     14\u001b[0m \u001b[0;34m\u001b[0m\u001b[0m\n\u001b[0;32m---> 15\u001b[0;31m \u001b[0mcreat_tratin_data\u001b[0m\u001b[0;34m(\u001b[0m\u001b[0;34m)\u001b[0m\u001b[0;34m\u001b[0m\u001b[0;34m\u001b[0m\u001b[0m\n\u001b[0m",
            "\u001b[0;32m<ipython-input-5-b032e167d4df>\u001b[0m in \u001b[0;36mcreat_tratin_data\u001b[0;34m()\u001b[0m\n\u001b[1;32m      6\u001b[0m         \u001b[0mpath\u001b[0m\u001b[0;34m=\u001b[0m\u001b[0mos\u001b[0m\u001b[0;34m.\u001b[0m\u001b[0mpath\u001b[0m\u001b[0;34m.\u001b[0m\u001b[0mjoin\u001b[0m\u001b[0;34m(\u001b[0m\u001b[0mDATAPATH\u001b[0m\u001b[0;34m,\u001b[0m\u001b[0mcatagory\u001b[0m\u001b[0;34m)\u001b[0m\u001b[0;34m\u001b[0m\u001b[0;34m\u001b[0m\u001b[0m\n\u001b[1;32m      7\u001b[0m         \u001b[0mclass_num\u001b[0m\u001b[0;34m=\u001b[0m\u001b[0mCARAGORIES\u001b[0m\u001b[0;34m.\u001b[0m\u001b[0mindex\u001b[0m\u001b[0;34m(\u001b[0m\u001b[0mcatagory\u001b[0m\u001b[0;34m)\u001b[0m\u001b[0;34m\u001b[0m\u001b[0;34m\u001b[0m\u001b[0m\n\u001b[0;32m----> 8\u001b[0;31m         \u001b[0;32mfor\u001b[0m \u001b[0mimg\u001b[0m \u001b[0;32min\u001b[0m \u001b[0mos\u001b[0m\u001b[0;34m.\u001b[0m\u001b[0mlistdir\u001b[0m\u001b[0;34m(\u001b[0m\u001b[0mpath\u001b[0m\u001b[0;34m)\u001b[0m\u001b[0;34m:\u001b[0m\u001b[0;34m\u001b[0m\u001b[0;34m\u001b[0m\u001b[0m\n\u001b[0m\u001b[1;32m      9\u001b[0m             \u001b[0;32mtry\u001b[0m\u001b[0;34m:\u001b[0m\u001b[0;34m\u001b[0m\u001b[0;34m\u001b[0m\u001b[0m\n\u001b[1;32m     10\u001b[0m                 \u001b[0mimg_data\u001b[0m\u001b[0;34m=\u001b[0m\u001b[0mcv2\u001b[0m\u001b[0;34m.\u001b[0m\u001b[0mimread\u001b[0m\u001b[0;34m(\u001b[0m\u001b[0mos\u001b[0m\u001b[0;34m.\u001b[0m\u001b[0mpath\u001b[0m\u001b[0;34m.\u001b[0m\u001b[0mjoin\u001b[0m\u001b[0;34m(\u001b[0m\u001b[0mpath\u001b[0m\u001b[0;34m,\u001b[0m\u001b[0mimg\u001b[0m\u001b[0;34m)\u001b[0m\u001b[0;34m)\u001b[0m\u001b[0;34m\u001b[0m\u001b[0;34m\u001b[0m\u001b[0m\n",
            "\u001b[0;31mFileNotFoundError\u001b[0m: [Errno 2] No such file or directory: '/content/sample_data/drive/My Drive/Rezized Image/Pothole'"
          ]
        }
      ]
    },
    {
      "cell_type": "code",
      "metadata": {
        "id": "ogx6BaSt-bAV"
      },
      "source": [
        "print(len(train_data))"
      ],
      "execution_count": null,
      "outputs": []
    },
    {
      "cell_type": "code",
      "metadata": {
        "id": "pzwTYt7E-xCi"
      },
      "source": [
        "import random\n",
        "random.shuffle(train_data)"
      ],
      "execution_count": null,
      "outputs": []
    },
    {
      "cell_type": "code",
      "metadata": {
        "id": "5NZz5ALqApbV"
      },
      "source": [
        "x=[]\n",
        "y=[]\n",
        "for features,lable in train_data:\n",
        "  x.append(features)\n",
        "  y.append(lable) "
      ],
      "execution_count": null,
      "outputs": []
    },
    {
      "cell_type": "code",
      "metadata": {
        "id": "NEEX8XfBOGY2"
      },
      "source": [
        "print(len(x))\n",
        "print(len(y))"
      ],
      "execution_count": null,
      "outputs": []
    },
    {
      "cell_type": "code",
      "metadata": {
        "id": "Eg455AbwEQAQ"
      },
      "source": [
        "x_train=np.asarray(x)/255.0\n",
        "y_train=np.asarray(y)\n",
        "x_test=np.asarray(x[-100:])/255.0\n",
        "y_test=np.asarray(y[-100:])"
      ],
      "execution_count": null,
      "outputs": []
    },
    {
      "cell_type": "code",
      "metadata": {
        "id": "i14sJ47ITHNI"
      },
      "source": [
        "#print(type(train_data))\n",
        "#print(type(y_train))\n",
        "print(x_train[0])"
      ],
      "execution_count": null,
      "outputs": []
    },
    {
      "cell_type": "code",
      "metadata": {
        "id": "wE-JyvblbeQX"
      },
      "source": [
        "plt.imshow(x_test[0])\n",
        "plt.show()"
      ],
      "execution_count": null,
      "outputs": []
    },
    {
      "cell_type": "code",
      "metadata": {
        "id": "kzciREOQBmju"
      },
      "source": [
        "plt.imshow(x_train[0])\n",
        "plt.show()\n",
        "print(len(x_test))"
      ],
      "execution_count": null,
      "outputs": []
    },
    {
      "cell_type": "code",
      "metadata": {
        "id": "KXz13uSPyhlg"
      },
      "source": [
        "plt.figure(figsize=(10,10))\n",
        "for i in range(25):\n",
        "    plt.subplot(5,5,i+1)\n",
        "    plt.xticks([])\n",
        "    plt.yticks([])\n",
        "    plt.grid(False)\n",
        "    plt.imshow(x_train[i], cmap=plt.cm.binary)\n",
        "    plt.xlabel(CARAGORIES[y_train[i]])\n",
        "plt.show()"
      ],
      "execution_count": null,
      "outputs": []
    },
    {
      "cell_type": "code",
      "metadata": {
        "id": "cIgafGb-HoE3"
      },
      "source": [
        "model=tf.keras.models.Sequential()\n",
        "model.add(tf.keras.layers.Conv2D(6,3,activation=tf.nn.relu,))\n",
        "model.add(tf.keras.layers.MaxPooling2D(pool_size=(5,5)))\n",
        "model.add(tf.keras.layers.Conv2D(6,3,activation=tf.nn.relu))\n",
        "model.add(tf.keras.layers.MaxPooling2D(pool_size=(3,3)))\n",
        "model.add(tf.keras.layers.Flatten())\n",
        "model.add(tf.keras.layers.Dense(128,activation=tf.nn.relu))\n",
        "model.add(tf.keras.layers.Dense(128,activation=tf.nn.relu))\n",
        "model.add(tf.keras.layers.Dense(3,activation=tf.nn.softmax))\n",
        "\n",
        "\n",
        "model.compile(optimizer='adam',\n",
        "              loss='sparse_categorical_crossentropy',\n",
        "              metrics=['accuracy'])\n",
        "Model_hits=model.fit(x_train,y_train,epochs=50,validation_data=(x_test, y_test),callbacks=[tensorboard_callback])"
      ],
      "execution_count": null,
      "outputs": []
    },
    {
      "cell_type": "code",
      "metadata": {
        "id": "nXnKUaRvI4nq"
      },
      "source": [
        "print(Model_hits.history.keys())"
      ],
      "execution_count": null,
      "outputs": []
    },
    {
      "cell_type": "code",
      "metadata": {
        "id": "2C6sNZcXLFrH"
      },
      "source": [
        "# summarize history for accuracy\n",
        "plt.plot(Model_hits.history['acc'])\n",
        "plt.plot(Model_hits.history['val_acc'])\n",
        "plt.title('Model accuracy')\n",
        "plt.ylabel('accuracy')\n",
        "plt.xlabel('epoch')\n",
        "plt.legend(['train', 'test'], loc='upper left')\n",
        "plt.show()"
      ],
      "execution_count": null,
      "outputs": []
    },
    {
      "cell_type": "code",
      "metadata": {
        "id": "sVq1TsulLYeA"
      },
      "source": [
        "# summarize history for accuracy\n",
        "plt.plot(Model_hits.history['loss'])\n",
        "plt.plot(Model_hits.history['val_loss'])\n",
        "plt.title('Model loss')\n",
        "plt.ylabel('Loss')\n",
        "plt.xlabel('epoch')\n",
        "plt.legend(['train', 'test'], loc='upper right')\n",
        "plt.show()"
      ],
      "execution_count": null,
      "outputs": []
    },
    {
      "cell_type": "code",
      "metadata": {
        "id": "Fsmzgnq4X56k"
      },
      "source": [
        "%tensorboard --logdir logs"
      ],
      "execution_count": null,
      "outputs": []
    },
    {
      "cell_type": "code",
      "metadata": {
        "id": "FTqJiiwW5nLr"
      },
      "source": [
        "!kill 3122"
      ],
      "execution_count": null,
      "outputs": []
    },
    {
      "cell_type": "code",
      "metadata": {
        "id": "HrNOLFiWdxqi"
      },
      "source": [
        "val_loss,val_acc=model.evaluate(tf.keras.utils.normalize(x_test,axis=1),y_test)\n",
        "print(val_loss,val_acc)"
      ],
      "execution_count": null,
      "outputs": []
    },
    {
      "cell_type": "code",
      "metadata": {
        "id": "P1Wz68BKey2m"
      },
      "source": [
        "model.save('final_model')"
      ],
      "execution_count": null,
      "outputs": []
    },
    {
      "cell_type": "code",
      "metadata": {
        "id": "s0F6jeUjfVYU"
      },
      "source": [
        "saved_model=tf.keras.models.load_model('final_model')"
      ],
      "execution_count": null,
      "outputs": []
    },
    {
      "cell_type": "code",
      "metadata": {
        "id": "NQT3WBGhA3Ih"
      },
      "source": [
        "model.summary()"
      ],
      "execution_count": null,
      "outputs": []
    },
    {
      "cell_type": "code",
      "metadata": {
        "id": "8ne0F80cgO-x"
      },
      "source": [
        "prediction=saved_model.predict(x_test);\n",
        "print(prediction)"
      ],
      "execution_count": null,
      "outputs": []
    },
    {
      "cell_type": "code",
      "metadata": {
        "id": "6boRh0bjveV4"
      },
      "source": [
        "plt.imshow(x_test[2])\n",
        "plt.show()\n",
        "print('Predicted :',CARAGORIES[np.argmax(prediction[2])])"
      ],
      "execution_count": null,
      "outputs": []
    },
    {
      "cell_type": "code",
      "metadata": {
        "id": "DBkrAzx7KP94"
      },
      "source": [
        "from tensorflow.keras.preprocessing.image import ImageDataGenerator\n",
        "from tensorflow.keras.models import Sequential\n",
        "from tensorflow.keras.layers import Dense, Dropout, Activation, Flatten ,Softmax\n",
        "from tensorflow.keras.layers import Conv2D, MaxPooling2D"
      ],
      "execution_count": null,
      "outputs": []
    },
    {
      "cell_type": "code",
      "metadata": {
        "id": "_wVSxUlDJWed"
      },
      "source": [
        "model2 = Sequential()\n",
        "\n",
        "model2.add(tf.keras.layers.Flatten())\n",
        "model2.add(tf.keras.layers.Dense(128,activation=tf.nn.relu))\n",
        "model2.add(tf.keras.layers.Dense(128,activation=tf.nn.relu))\n",
        "model2.add(tf.keras.layers.Dense(3,activation=tf.nn.softmax))\n",
        "\n",
        "\n",
        "model2.compile(optimizer='adam',\n",
        "              loss='sparse_categorical_crossentropy',\n",
        "              metrics=['accuracy'])\n",
        "model2_hits=model2.fit(x_train,y_train,epochs=50,validation_data=(x_test, y_test),callbacks=[tensorboard_callback])\n"
      ],
      "execution_count": null,
      "outputs": []
    },
    {
      "cell_type": "code",
      "metadata": {
        "id": "YwmTRb0ivp41"
      },
      "source": [
        "# summarize history for accuracy\n",
        "plt.plot(model2_hits.history['acc'])\n",
        "plt.plot(model2_hits.history['val_acc'])\n",
        "plt.title('Model accuracy')\n",
        "plt.ylabel('accuracy')\n",
        "plt.xlabel('epoch')\n",
        "plt.legend(['train', 'test'], loc='upper left')\n",
        "plt.show()"
      ],
      "execution_count": null,
      "outputs": []
    },
    {
      "cell_type": "code",
      "metadata": {
        "id": "u-SmFQopkIlD"
      },
      "source": [
        "# summarize history for accuracy\n",
        "plt.plot(model2_hits.history['loss'])\n",
        "plt.plot(model2_hits.history['val_loss'])\n",
        "plt.title('Model loss')\n",
        "plt.ylabel('Loss')\n",
        "plt.xlabel('epoch')\n",
        "plt.legend(['train', 'test'], loc='upper right')\n",
        "plt.show()"
      ],
      "execution_count": null,
      "outputs": []
    },
    {
      "cell_type": "code",
      "metadata": {
        "id": "b56bCt2Vm0fn"
      },
      "source": [
        "import sklearn as sk\n",
        "from sklearn.metrics import classification_report"
      ],
      "execution_count": null,
      "outputs": []
    },
    {
      "cell_type": "code",
      "metadata": {
        "id": "QFeHV8wXnFYG"
      },
      "source": [
        "from sklearn.metrics import f1_score, precision_score, recall_score, confusion_matrix\n",
        "y_pred1 = model.predict(x_test)\n",
        "y_pred = np.argmax(y_pred1, axis=1)\n",
        "\n",
        "# Print f1, precision, and recall scores\n",
        "print(precision_score(y_test, y_pred , average=\"macro\"))\n",
        "print(recall_score(y_test, y_pred , average=\"macro\"))\n",
        "print(f1_score(y_test, y_pred , average=\"macro\"))"
      ],
      "execution_count": null,
      "outputs": []
    },
    {
      "cell_type": "code",
      "metadata": {
        "id": "ZeMzfvBlojsB"
      },
      "source": [
        "p = model2.predict(x_test)\n",
        "p2 = np.argmax(p, axis=1)\n",
        "\n",
        "# Print f1, precision, and recall scores\n",
        "print(precision_score(y_test,p2, average=\"macro\"))\n",
        "print(recall_score(y_test, p2 , average=\"macro\"))\n",
        "print(f1_score(y_test, p2 , average=\"macro\"))"
      ],
      "execution_count": null,
      "outputs": []
    },
    {
      "cell_type": "code",
      "metadata": {
        "id": "zZ4-ou7fm-_r"
      },
      "source": [
        ""
      ],
      "execution_count": null,
      "outputs": []
    },
    {
      "cell_type": "code",
      "metadata": {
        "id": "Y2lH2OswrKm8"
      },
      "source": [
        "subjects = ['precision score', 'recall score', 'f1 score']\n",
        "indx = np.arange(len(subjects))\n",
        "score_label = np.arange(0,1.51,0.1)\n",
        "male_means = list([0.966988727858293,0.9559032716927454,0.9609993555199035])\n",
        "female_means = list([0.5150278797769617,0.6320638820638821,0.5671617161716171])\n",
        "\n",
        "bar_width = 0.35\n",
        "\n",
        "fig, ax = plt.subplots()\n",
        "barMale = ax.bar(indx - bar_width/2, male_means, bar_width, label='Faster R-CNN')\n",
        "barFemale = ax.bar(indx + bar_width/2, female_means, bar_width, label='R-CNN')\n",
        "\n",
        "# inserting x axis label\n",
        "ax.set_xticks(indx)\n",
        "ax.set_xticklabels(subjects)\n",
        "\n",
        "# inserting y axis label\n",
        "ax.set_yticks(score_label)\n",
        "ax.set_yticklabels(score_label)\n",
        "\n",
        "# inserting legend\n",
        "ax.legend()\n",
        "\n",
        "def insert_data_labels(bars):\n",
        "\tfor bar in bars:\n",
        "\t\tbar_height = bar.get_height()\n",
        "\t\tax.annotate('{0:.0f}'.format(bar.get_height()),\n",
        "\t\t\txy=(bar.get_x() + bar.get_width() / 2, bar_height),\n",
        "\t\t\txytext=(0, 3),\n",
        "\t\t\ttextcoords='offset points',\n",
        "\t\t\tha='center',\n",
        "\t\t\tva='bottom'\n",
        "\t\t)\n",
        "\n",
        "#insert_data_labels(barMale)\n",
        "#insert_data_labels(barFemale)\n",
        "\n",
        "plt.show()"
      ],
      "execution_count": null,
      "outputs": []
    }
  ]
}